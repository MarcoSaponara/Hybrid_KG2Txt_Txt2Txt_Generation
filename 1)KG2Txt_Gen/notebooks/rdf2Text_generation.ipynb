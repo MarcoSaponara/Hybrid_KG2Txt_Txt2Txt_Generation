{
  "nbformat": 4,
  "nbformat_minor": 0,
  "metadata": {
    "colab": {
      "name": "rdf2Text_generation.ipynb",
      "provenance": []
    },
    "kernelspec": {
      "name": "python3",
      "display_name": "Python 3"
    },
    "language_info": {
      "name": "python"
    }
  },
  "cells": [
    {
      "cell_type": "code",
      "metadata": {
        "id": "JP-q_cxoFDjH",
        "colab": {
          "base_uri": "https://localhost:8080/"
        },
        "outputId": "20ec0a59-8b7b-4221-9483-a6501db25e89"
      },
      "source": [
        "!pip install sentencepiece"
      ],
      "execution_count": 12,
      "outputs": [
        {
          "output_type": "stream",
          "name": "stdout",
          "text": [
            "Requirement already satisfied: sentencepiece in /usr/local/lib/python3.7/dist-packages (0.1.96)\n"
          ]
        }
      ]
    },
    {
      "cell_type": "code",
      "metadata": {
        "id": "8cGZp7YjEnsM",
        "colab": {
          "base_uri": "https://localhost:8080/"
        },
        "outputId": "1a3b083e-6e44-4df2-828f-35f05d1018c6"
      },
      "source": [
        "!pip install transformers"
      ],
      "execution_count": 13,
      "outputs": [
        {
          "output_type": "stream",
          "name": "stdout",
          "text": [
            "Requirement already satisfied: transformers in /usr/local/lib/python3.7/dist-packages (4.17.0)\n",
            "Requirement already satisfied: packaging>=20.0 in /usr/local/lib/python3.7/dist-packages (from transformers) (21.3)\n",
            "Requirement already satisfied: tqdm>=4.27 in /usr/local/lib/python3.7/dist-packages (from transformers) (4.63.0)\n",
            "Requirement already satisfied: importlib-metadata in /usr/local/lib/python3.7/dist-packages (from transformers) (4.11.3)\n",
            "Requirement already satisfied: regex!=2019.12.17 in /usr/local/lib/python3.7/dist-packages (from transformers) (2019.12.20)\n",
            "Requirement already satisfied: sacremoses in /usr/local/lib/python3.7/dist-packages (from transformers) (0.0.49)\n",
            "Requirement already satisfied: filelock in /usr/local/lib/python3.7/dist-packages (from transformers) (3.6.0)\n",
            "Requirement already satisfied: huggingface-hub<1.0,>=0.1.0 in /usr/local/lib/python3.7/dist-packages (from transformers) (0.4.0)\n",
            "Requirement already satisfied: requests in /usr/local/lib/python3.7/dist-packages (from transformers) (2.23.0)\n",
            "Requirement already satisfied: pyyaml>=5.1 in /usr/local/lib/python3.7/dist-packages (from transformers) (6.0)\n",
            "Requirement already satisfied: numpy>=1.17 in /usr/local/lib/python3.7/dist-packages (from transformers) (1.21.5)\n",
            "Requirement already satisfied: tokenizers!=0.11.3,>=0.11.1 in /usr/local/lib/python3.7/dist-packages (from transformers) (0.11.6)\n",
            "Requirement already satisfied: typing-extensions>=3.7.4.3 in /usr/local/lib/python3.7/dist-packages (from huggingface-hub<1.0,>=0.1.0->transformers) (3.10.0.2)\n",
            "Requirement already satisfied: pyparsing!=3.0.5,>=2.0.2 in /usr/local/lib/python3.7/dist-packages (from packaging>=20.0->transformers) (3.0.7)\n",
            "Requirement already satisfied: zipp>=0.5 in /usr/local/lib/python3.7/dist-packages (from importlib-metadata->transformers) (3.7.0)\n",
            "Requirement already satisfied: urllib3!=1.25.0,!=1.25.1,<1.26,>=1.21.1 in /usr/local/lib/python3.7/dist-packages (from requests->transformers) (1.24.3)\n",
            "Requirement already satisfied: chardet<4,>=3.0.2 in /usr/local/lib/python3.7/dist-packages (from requests->transformers) (3.0.4)\n",
            "Requirement already satisfied: idna<3,>=2.5 in /usr/local/lib/python3.7/dist-packages (from requests->transformers) (2.10)\n",
            "Requirement already satisfied: certifi>=2017.4.17 in /usr/local/lib/python3.7/dist-packages (from requests->transformers) (2021.10.8)\n",
            "Requirement already satisfied: click in /usr/local/lib/python3.7/dist-packages (from sacremoses->transformers) (7.1.2)\n",
            "Requirement already satisfied: six in /usr/local/lib/python3.7/dist-packages (from sacremoses->transformers) (1.15.0)\n",
            "Requirement already satisfied: joblib in /usr/local/lib/python3.7/dist-packages (from sacremoses->transformers) (1.1.0)\n"
          ]
        }
      ]
    },
    {
      "cell_type": "code",
      "source": [
        "#!tar zxvf /content/drive/MyDrive/rdf2text/2020_v2_en.t5_large.tgz"
      ],
      "metadata": {
        "colab": {
          "base_uri": "https://localhost:8080/"
        },
        "id": "z7SQtFkZ7lSW",
        "outputId": "41446f5f-e83c-4ec3-d938-0bcc6addbb61"
      },
      "execution_count": 14,
      "outputs": [
        {
          "output_type": "stream",
          "name": "stdout",
          "text": [
            "2020_v2_en.t5_large/\n",
            "2020_v2_en.t5_large/log.txt\n",
            "2020_v2_en.t5_large/tokenizer_config.json\n",
            "2020_v2_en.t5_large/special_tokens_map.json\n",
            "2020_v2_en.t5_large/added_tokens.json\n",
            "2020_v2_en.t5_large/spiece.model\n",
            "2020_v2_en.t5_large/config.json\n",
            "2020_v2_en.t5_large/pytorch_model.bin\n",
            "2020_v2_en.t5_large/hyp.valid.txt\n",
            "2020_v2_en.t5_large/hyp.test.txt\n",
            "2020_v2_en.t5_large/hyp.valid.rrk_rev.txt\n",
            "2020_v2_en.t5_large/hyp.test.rrk_rev.txt\n",
            "2020_v2_en.t5_large/hyp.valid.rrk_revfwd.txt\n",
            "2020_v2_en.t5_large/hyp.valid.rrk_rev_chrf.txt\n",
            "2020_v2_en.t5_large/hyp.valid.rrk_rev_bleu.txt\n",
            "2020_v2_en.t5_large/hyp.valid.rrk_orac.txt\n",
            "2020_v2_en.t5_large/bleurt.tmp.txt\n"
          ]
        }
      ]
    },
    {
      "cell_type": "code",
      "source": [
        "!git clone https://github.com/MarcoSaponara/Hybrid_KG2Txt_Txt2Txt_Generation.git repo"
      ],
      "metadata": {
        "colab": {
          "base_uri": "https://localhost:8080/"
        },
        "id": "4wzPkP04oaRs",
        "outputId": "92e9af73-e041-41cc-da3b-f174aaa10fdb"
      },
      "execution_count": 15,
      "outputs": [
        {
          "output_type": "stream",
          "name": "stdout",
          "text": [
            "fatal: destination path 'repo' already exists and is not an empty directory.\n"
          ]
        }
      ]
    },
    {
      "cell_type": "code",
      "metadata": {
        "id": "puvDxYm6s3XG"
      },
      "source": [
        "!cp './repo/2)content_selection/data/wiki/debug.json' './debug.json'"
      ],
      "execution_count": 16,
      "outputs": []
    },
    {
      "cell_type": "code",
      "source": [
        "!python './repo/1)KG2Txt_Gen/src/scripts/rdf2textGen.py' --model_path /content/2020_v2_en.t5_large --input_data_path /content/debug.json --output_data_path /content/rdf2text_results.json"
      ],
      "metadata": {
        "id": "eNNGwMEwpD-z"
      },
      "execution_count": 17,
      "outputs": []
    }
  ]
}
