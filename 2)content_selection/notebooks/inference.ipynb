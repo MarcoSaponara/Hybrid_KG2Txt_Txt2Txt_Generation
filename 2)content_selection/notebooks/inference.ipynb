{
  "nbformat": 4,
  "nbformat_minor": 0,
  "metadata": {
    "colab": {
      "name": "marge_wiki_INFERENCE.ipynb",
      "provenance": [],
      "collapsed_sections": []
    },
    "kernelspec": {
      "name": "python3",
      "display_name": "Python 3"
    },
    "language_info": {
      "name": "python"
    },
    "accelerator": "GPU"
  },
  "cells": [
    {
      "cell_type": "markdown",
      "metadata": {
        "id": "lc3VKAA9OpwS"
      },
      "source": [
        "#PYTHON 3.6"
      ]
    },
    {
      "cell_type": "code",
      "metadata": {
        "id": "0NGu0Ek-E6rI"
      },
      "source": [
        "# Choose one of the given alternatives:\n",
        "!sudo update-alternatives --config python3"
      ],
      "execution_count": null,
      "outputs": []
    },
    {
      "cell_type": "code",
      "metadata": {
        "id": "6dqTnMi9FKRb"
      },
      "source": [
        "!sudo apt install python3-pip"
      ],
      "execution_count": null,
      "outputs": []
    },
    {
      "cell_type": "code",
      "metadata": {
        "id": "BEabcTYmHFQX"
      },
      "source": [
        "!curl https://bootstrap.pypa.io/get-pip.py -o get-pip.py\n",
        "!python3 get-pip.py --force-reinstall"
      ],
      "execution_count": null,
      "outputs": []
    },
    {
      "cell_type": "markdown",
      "metadata": {
        "id": "-3zbkg32EnKe"
      },
      "source": [
        "#ROUGE and pyrouge setup"
      ]
    },
    {
      "cell_type": "code",
      "metadata": {
        "id": "D0ay1zi9Ettj"
      },
      "source": [
        "# install missing dependency\n",
        "!apt install libxml-parser-perl"
      ],
      "execution_count": null,
      "outputs": []
    },
    {
      "cell_type": "code",
      "metadata": {
        "id": "pzNdX7lNE0_8"
      },
      "source": [
        "!git clone https://github.com/bheinzerling/pyrouge\n",
        "%cd pyrouge\n",
        "!python setup.py install"
      ],
      "execution_count": null,
      "outputs": []
    },
    {
      "cell_type": "code",
      "metadata": {
        "id": "WtsH42FpE4xo"
      },
      "source": [
        "# get adersjo's pyrouge tools\n",
        "%%bash\n",
        "cd ./pyrouge\n",
        "git clone https://github.com/andersjo/pyrouge.git rouge"
      ],
      "execution_count": null,
      "outputs": []
    },
    {
      "cell_type": "code",
      "metadata": {
        "id": "gbNw4M0mE_SC"
      },
      "source": [
        "# build db file and run test\n",
        "%%bash\n",
        "DIR=\"/content/pyrouge/pyrouge/rouge/tools/ROUGE-1.5.5\"\n",
        "pyrouge_set_rouge_path $DIR\n",
        "cd $DIR/data\n",
        "mv WordNet-2.0.exc.db WordNet-2.0.exc.db.orig\n",
        "perl WordNet-2.0-Exceptions/buildExeptionDB.pl ./WordNet-2.0-Exceptions ./smart_common_words.txt ./WordNet-2.0.exc.db\n",
        "python -m pyrouge.test"
      ],
      "execution_count": null,
      "outputs": []
    },
    {
      "cell_type": "markdown",
      "metadata": {
        "id": "fqfRlrF1Eul9"
      },
      "source": [
        "#MaRGE preliminary setup"
      ]
    },
    {
      "cell_type": "code",
      "metadata": {
        "id": "irK4C9jrf0OY"
      },
      "source": [
        "%cd ../"
      ],
      "execution_count": null,
      "outputs": []
    },
    {
      "cell_type": "code",
      "metadata": {
        "id": "S9ftdLwNMoGO"
      },
      "source": [
        "!git clone https://github.com/MarcoSaponara/Hybrid_KG2Txt_Txt2Txt_Generation.git repo\n",
        "!mv 'repo/2)content_selection' 'margesum'"
      ],
      "execution_count": null,
      "outputs": []
    },
    {
      "cell_type": "code",
      "source": [
        "!mv ./margesum/data/wiki/debug.json ./margesum/data/wiki/test.json"
      ],
      "metadata": {
        "id": "Msld7TRC3sku"
      },
      "execution_count": null,
      "outputs": []
    },
    {
      "cell_type": "code",
      "source": [
        "!git clone https://github.com/yumoxu/querysum.git querysum\n",
        "\n",
        "!mkdir ./margesum/src/frame/ir\n",
        "!cp -vr ./querysum/src/frame/ir/* ./margesum/src/frame/ir"
      ],
      "metadata": {
        "id": "fj25uVvmabvf"
      },
      "execution_count": null,
      "outputs": []
    },
    {
      "cell_type": "code",
      "metadata": {
        "id": "ODLVgtf4MBqK"
      },
      "source": [
        "%cd margesum/\n",
        "!mkdir log graph model rank text stats\n",
        "!touch log/BertRR.log"
      ],
      "execution_count": null,
      "outputs": []
    },
    {
      "cell_type": "code",
      "metadata": {
        "id": "OD4Wlv-asHqM"
      },
      "source": [
        "# upload the model trained with training.ipynb\n",
        "#!mkdir ./model/rr_wiki\n",
        "#!cp -vr /content/drive/MyDrive/model/rr_wiki/* ./model/rr_wiki"
      ],
      "execution_count": null,
      "outputs": []
    },
    {
      "cell_type": "code",
      "metadata": {
        "id": "SIjesPwTNiMM"
      },
      "source": [
        "!python -m pip install -r requirements.txt --user"
      ],
      "execution_count": null,
      "outputs": []
    },
    {
      "cell_type": "code",
      "metadata": {
        "id": "0eVpCuO1VQLf"
      },
      "source": [
        "%cd ../"
      ],
      "execution_count": null,
      "outputs": []
    },
    {
      "cell_type": "code",
      "metadata": {
        "id": "I0br2Fw-S4tE"
      },
      "source": [
        "!git clone https://www.github.com/nvidia/apex\n",
        "%cd apex\n",
        "!python3 setup.py install"
      ],
      "execution_count": null,
      "outputs": []
    },
    {
      "cell_type": "code",
      "metadata": {
        "id": "sNJQ9q9hvoV7"
      },
      "source": [
        "%cd ../"
      ],
      "execution_count": null,
      "outputs": []
    },
    {
      "cell_type": "code",
      "metadata": {
        "id": "AJlrrorA_h9T"
      },
      "source": [
        "%cd margesum/"
      ],
      "execution_count": null,
      "outputs": []
    },
    {
      "cell_type": "code",
      "metadata": {
        "id": "T--DiG4V90rp"
      },
      "source": [
        "import nltk\n",
        "nltk.download('punkt')"
      ],
      "execution_count": null,
      "outputs": []
    },
    {
      "cell_type": "markdown",
      "metadata": {
        "id": "aGY3d4S9fl-O"
      },
      "source": [
        "#MaRGE: query modeling"
      ]
    },
    {
      "cell_type": "markdown",
      "metadata": {
        "id": "t7bPBLQScuf8"
      },
      "source": [
        "##Inference and evaluation"
      ]
    },
    {
      "cell_type": "code",
      "metadata": {
        "id": "zFNVah5MwXEP"
      },
      "source": [
        "!mkdir ./graph/rel_scores"
      ],
      "execution_count": null,
      "outputs": []
    },
    {
      "cell_type": "code",
      "metadata": {
        "id": "LUB2jSPtZUq7"
      },
      "source": [
        "#it is probably necessary to change preload_model_tokenizer from False to True in margesum/src/config/config_meta.yml \n",
        "\n",
        "!python ./src/frame/bert_rr/main_WIKI.py"
      ],
      "execution_count": null,
      "outputs": []
    }
  ]
}