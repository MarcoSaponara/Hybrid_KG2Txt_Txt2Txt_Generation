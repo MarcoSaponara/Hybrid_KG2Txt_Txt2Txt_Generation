{
  "nbformat": 4,
  "nbformat_minor": 0,
  "metadata": {
    "colab": {
      "name": "marge_wiki_DATASET.ipynb",
      "provenance": [],
      "collapsed_sections": []
    },
    "kernelspec": {
      "name": "python3",
      "display_name": "Python 3"
    },
    "language_info": {
      "name": "python"
    },
    "accelerator": "GPU"
  },
  "cells": [
    {
      "cell_type": "markdown",
      "metadata": {
        "id": "lc3VKAA9OpwS"
      },
      "source": [
        "#PYTHON 3.6"
      ]
    },
    {
      "cell_type": "code",
      "metadata": {
        "id": "0NGu0Ek-E6rI"
      },
      "source": [
        "# Choose one of the given alternatives:\n",
        "!sudo update-alternatives --config python3"
      ],
      "execution_count": null,
      "outputs": []
    },
    {
      "cell_type": "code",
      "metadata": {
        "id": "6dqTnMi9FKRb"
      },
      "source": [
        "!sudo apt install python3-pip"
      ],
      "execution_count": null,
      "outputs": []
    },
    {
      "cell_type": "code",
      "metadata": {
        "id": "BEabcTYmHFQX"
      },
      "source": [
        "!curl https://bootstrap.pypa.io/get-pip.py -o get-pip.py\n",
        "!python3 get-pip.py --force-reinstall"
      ],
      "execution_count": null,
      "outputs": []
    },
    {
      "cell_type": "markdown",
      "metadata": {
        "id": "-3zbkg32EnKe"
      },
      "source": [
        "#ROUGE and pyrouge setup"
      ]
    },
    {
      "cell_type": "code",
      "metadata": {
        "id": "D0ay1zi9Ettj"
      },
      "source": [
        "# install missing dependency\n",
        "!apt install libxml-parser-perl"
      ],
      "execution_count": null,
      "outputs": []
    },
    {
      "cell_type": "code",
      "metadata": {
        "id": "pzNdX7lNE0_8"
      },
      "source": [
        "!git clone https://github.com/bheinzerling/pyrouge\n",
        "%cd pyrouge\n",
        "!python setup.py install"
      ],
      "execution_count": null,
      "outputs": []
    },
    {
      "cell_type": "code",
      "metadata": {
        "id": "WtsH42FpE4xo"
      },
      "source": [
        "# get adersjo's pyrouge tools\n",
        "%%bash\n",
        "cd ./pyrouge\n",
        "git clone https://github.com/andersjo/pyrouge.git rouge"
      ],
      "execution_count": null,
      "outputs": []
    },
    {
      "cell_type": "code",
      "metadata": {
        "id": "gbNw4M0mE_SC"
      },
      "source": [
        "# build db file and run test\n",
        "%%bash\n",
        "DIR=\"/content/pyrouge/pyrouge/rouge/tools/ROUGE-1.5.5\"\n",
        "pyrouge_set_rouge_path $DIR\n",
        "cd $DIR/data\n",
        "mv WordNet-2.0.exc.db WordNet-2.0.exc.db.orig\n",
        "perl WordNet-2.0-Exceptions/buildExeptionDB.pl ./WordNet-2.0-Exceptions ./smart_common_words.txt ./WordNet-2.0.exc.db\n",
        "python -m pyrouge.test"
      ],
      "execution_count": null,
      "outputs": []
    },
    {
      "cell_type": "markdown",
      "metadata": {
        "id": "fqfRlrF1Eul9"
      },
      "source": [
        "#MaRGE preliminary setup"
      ]
    },
    {
      "cell_type": "code",
      "metadata": {
        "id": "irK4C9jrf0OY"
      },
      "source": [
        "%cd ../"
      ],
      "execution_count": null,
      "outputs": []
    },
    {
      "cell_type": "code",
      "metadata": {
        "id": "S9ftdLwNMoGO"
      },
      "source": [
        "!git clone https://github.com/MarcoSaponara/Hybrid_KG2Txt_Txt2Txt_Generation.git repo\n",
        "!mv 'repo/2)content_selection' 'margesum'"
      ],
      "execution_count": null,
      "outputs": []
    },
    {
      "cell_type": "code",
      "metadata": {
        "id": "ODLVgtf4MBqK"
      },
      "source": [
        "%cd margesum\n",
        "!mkdir log graph model rank text stats\n",
        "!touch log/BertRR.log"
      ],
      "execution_count": null,
      "outputs": []
    },
    {
      "cell_type": "code",
      "metadata": {
        "id": "SIjesPwTNiMM"
      },
      "source": [
        "!python -m pip install -r requirements.txt"
      ],
      "execution_count": null,
      "outputs": []
    },
    {
      "cell_type": "code",
      "metadata": {
        "id": "0eVpCuO1VQLf"
      },
      "source": [
        "%cd ../"
      ],
      "execution_count": null,
      "outputs": []
    },
    {
      "cell_type": "code",
      "metadata": {
        "id": "I0br2Fw-S4tE"
      },
      "source": [
        "!git clone https://www.github.com/nvidia/apex\n",
        "%cd apex\n",
        "!python3 setup.py install"
      ],
      "execution_count": null,
      "outputs": []
    },
    {
      "cell_type": "code",
      "metadata": {
        "id": "sNJQ9q9hvoV7"
      },
      "source": [
        "%cd ../"
      ],
      "execution_count": null,
      "outputs": []
    },
    {
      "cell_type": "code",
      "metadata": {
        "id": "AJlrrorA_h9T"
      },
      "source": [
        "%cd margesum"
      ],
      "execution_count": null,
      "outputs": []
    },
    {
      "cell_type": "code",
      "metadata": {
        "id": "T--DiG4V90rp"
      },
      "source": [
        "import nltk\n",
        "nltk.download('punkt')"
      ],
      "execution_count": null,
      "outputs": []
    },
    {
      "cell_type": "markdown",
      "metadata": {
        "id": "aGY3d4S9fl-O"
      },
      "source": [
        "#MaRGE: query modeling"
      ]
    },
    {
      "cell_type": "markdown",
      "metadata": {
        "id": "OrlckQ6OfdEt"
      },
      "source": [
        "##Preparing training data"
      ]
    },
    {
      "cell_type": "markdown",
      "metadata": {
        "id": "k5VvsmaX0r6o"
      },
      "source": [
        "###DUMP_SENTENCE_ROUGE_WIKI"
      ]
    },
    {
      "cell_type": "code",
      "metadata": {
        "id": "xAkNyHUr_fHu"
      },
      "source": [
        "!python src/scripts/dump_sentence_rouge_wiki.py --project_path '/content/margesum' --dataset_var 'debug' --dp_temp 'debug'\n"
      ],
      "execution_count": null,
      "outputs": []
    },
    {
      "cell_type": "markdown",
      "metadata": {
        "id": "zk_3xrMX2h02"
      },
      "source": [
        "###MASK_QUERY_WIKI"
      ]
    },
    {
      "cell_type": "code",
      "metadata": {
        "id": "1Zw6YE-klSO1"
      },
      "source": [
        "!mkdir ./data/masked_wiki_query\n",
        "!python src/scripts/mask_query_wiki.py --project_path '/content/margesum' --dataset_var 'debug'"
      ],
      "execution_count": null,
      "outputs": []
    },
    {
      "cell_type": "markdown",
      "metadata": {
        "id": "y0Bs5cbylyYm"
      },
      "source": [
        "###BUILD_MARGE_DATASET_WIKI"
      ]
    },
    {
      "cell_type": "code",
      "metadata": {
        "id": "TsUnsdfyvBxn"
      },
      "source": [
        "!mkdir ./data/wiki/rouge/\n",
        "!mkdir ./data/wiki/marge/\n",
        "!mkdir ./data/wiki/masked_wiki_query/"
      ],
      "execution_count": null,
      "outputs": []
    },
    {
      "cell_type": "code",
      "metadata": {
        "id": "qY7O9djoo1ZP"
      },
      "source": [
        "!cp -v ./data/sentence_wiki/* ./data/wiki/rouge/\n"
      ],
      "execution_count": null,
      "outputs": []
    },
    {
      "cell_type": "code",
      "metadata": {
        "id": "UdlRJdb52R5i"
      },
      "source": [
        "!mv './data/masked_wiki_query/debug.json' './data/wiki/masked_wiki_query/debug.json'"
      ],
      "execution_count": null,
      "outputs": []
    },
    {
      "cell_type": "code",
      "metadata": {
        "id": "ygE3a2telvjR"
      },
      "source": [
        "!python src/scripts/build_marge_dataset_wiki.py --project_path '/content/margesum' --dataset_var 'debug' --use_mini_data True"
      ],
      "execution_count": null,
      "outputs": []
    }
  ]
}